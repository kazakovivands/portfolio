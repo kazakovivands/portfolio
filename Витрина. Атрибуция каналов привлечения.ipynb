{
  "cells": [
    {
      "cell_type": "markdown",
      "metadata": {
        "id": "kVmH10PbPCbd"
      },
      "source": [
        "# Домашнее задание №2. Атрибуция каналов привлечения"
      ]
    },
    {
      "cell_type": "code",
      "source": [],
      "metadata": {
        "id": "zLBEg41s3Eoj"
      },
      "execution_count": null,
      "outputs": []
    },
    {
      "cell_type": "markdown",
      "metadata": {
        "id": "U7bjwNNbPCbe"
      },
      "source": [
        "Вы работаете аналитиком в интернет-магазине Ascent: [ссылка](http://shop-stdata.tilda.ws/). Вам пришло сообщение от вашего коллеги-аналитика:\n",
        "\n",
        "![Условие](https://sun9-46.userapi.com/s/v1/if2/v72TY8B5Dya-tYzTT4IvzEmUi52aYDzOWKwzuPjtp2ScQmmduHo4E4TEVuTsWx3ibZgstaWtQIQTgRIb2v93RnZp.jpg?size=1496x820&quality=95&type=album)"
      ]
    },
    {
      "cell_type": "markdown",
      "metadata": {
        "id": "mx0v79QOPCbf"
      },
      "source": [
        "Вашей задачей является реализация данной витрины, результат сохраните в файл order_acquisition.csv. Также вам нужно описать логику присвоения каналов, которую вы посчитали релевантной для данной бизнес-задачи. Весь python-код и sql-код нужно занести в этот jupyter-notebook. "
      ]
    },
    {
      "cell_type": "markdown",
      "source": [],
      "metadata": {
        "id": "sRvuJfDxUpYo"
      }
    },
    {
      "cell_type": "markdown",
      "metadata": {
        "id": "nTlpUNB5PCbf"
      },
      "source": [
        "### Описание бизнес-логики присвоения каналов\n",
        "Ответьте на вопрос коллег из маркетинга и business development: по какой логике мы устанавливаем источник трафика для юзера? \n"
      ]
    },
    {
      "cell_type": "markdown",
      "source": [
        "## **Ответ**\n",
        "***Логика для установки источника трафика для юзера.***\n",
        "1. У нас есть онлайн-магазин и каналы привлечения клиентов.\n",
        "2. Для определения каналов привлечения клиентов используются UTM-метки в которых указывается источник трафика.\n",
        "3. Если смотреть структуру онлайн-магазина, то клиент сообщает о себе данные в момент совершения заказа. \n",
        "4. Когда клиент впервые совершает заказ он вносит данные в обязательные поля (Your Name, Your Email, Your Phone, Адрес). После того, как он внес данные, он нажимает кнопку Checkout. В этот момент его данные попадают в базу, и ему присваивается User_id и через UTM-метку определяется источник трафика, который закрепляется за клиентом, формируется таблица user_x_channel.\n",
        "5. В дальнейшем при заказе клиент будет идентифицироваться через телефон и почту и подтягиваться из базы.\n",
        "6. Это бы выглядело еще лучше, если бы на сайте был личный кабинет и регистрация, тогда user_id и источник трафика присваивались бы во время регистрации. Далее клиент заходит в личный кабинет, мы его идентифицируем, он смотрит товары на сайте при этом может их не покупать и не класть в корзину, тогда мы можем собрать с него еще историю визитов без покупок. Соответсвтенно, если он не заходит в личный кабинет, мы не можем узнать, что этот клиент есть в базе, и он смотрит сайт по client_id (анонимный идентификатор браузера).\n",
        "7. Принимая во внимание, что личного кабинета на сайте нет, чтобы не разрушать логику, можно принять что user_id в таблице user_visits это по сути client_id, который хоть и совпадает с user_id в остальных таблицах, но не является тем же самым. Поэтому для построения витрины мы не будем использовать таблицу user_visits."
      ],
      "metadata": {
        "id": "6-qvTSR90igD"
      }
    },
    {
      "cell_type": "markdown",
      "source": [
        "\n",
        "***Логика присвоения каналов***\n",
        "1. Нам нужно создать витрину с order_id и acquisition_name, чтобы с помощью нее можно было просегментировать клиентов по каналу привлечения и запустить email-рассылки (для каждого канала своя рассылка).\n",
        "2. Т.е. нам нужна витрина с данными, на основании которых можно сделать анализ для email-рассылки.\n",
        "3. Email есть у клиентов, которые оформили заказ (при этом могли его не оплачивать), заполнив форму на сайте и нажав на кнопку Checkout.\n",
        "4. Соотвественно, используем таблицу user_orders для формирования order_id путем склейки двух уникальных атрибутов timestamp и user_id: CONCAT(timestamp, _ , user_orders.user_id) as order_id. Также через оконную функцию row_number() over (order by CONCAT(timestamp, _ , user_orders.user_id)) as row_id добавляем row_id для удобство использования и обработки даннных конкретно для данной задачи. При расширении, добавлении, обновлении данных будем использовать order_id.\n",
        "5. Присоединяем к таблице user_orders таблицу user_payments по ключу user_orders.timestamp = user_payments.created, и далее таблицу user_x_channel по ключу user_id.\n",
        "6. Таблицы: \n",
        "- user_orders - для формирования order_id, \n",
        "- user_x_channel - для опредления каналов привлечения, откуда пришел заказ,\n",
        "- user_payments - для данных, на основании которых можно провести сегментацию для email-рассылки.\n",
        "7. С помощью полученной витрины мы можем получить:\n",
        "- сколько % составляет сумма заказа от общей суммы заказов (после возвратов), далее сгруппировать по каналам и посмотреть какой источник трафика приносит наибольшую прибыль\n",
        "- сколько % клиентов от общего количества клиентов привлек тот или иной канал\n",
        "- средней чек по каналу\n",
        "- из какого канала приходят наибольшее количество клиентов, которые не оплачивают заказ и наоборот\n",
        "- можно посмотреть какая сумма от общей суммы приходится на одного клиента по конкретному каналу привлечения\n",
        "- на какой канал приходится большее число возвратов \n",
        "- динамику по росту суммы заказов, количеству клиентов по каждому каналу\n",
        "- найти клиентов, которые не совершали покупки более 3-х, 6-ти месяцев\n",
        "- найти клиентов, которые совершают покупки каждый месяц\n",
        "- все вышеперечисленные метрики можно посмотреть за разные периоды и сравнить данные "
      ],
      "metadata": {
        "id": "vpZLyzOLTb_c"
      }
    },
    {
      "cell_type": "markdown",
      "source": [
        "### Реализация"
      ],
      "metadata": {
        "id": "Ib7WsaYzPcOZ"
      }
    },
    {
      "cell_type": "markdown",
      "source": [
        "\n",
        "*   da.user_visits – события посещения интернет-магазина за полгода\n",
        "*   da.user_orders – события нажатия на кнопку \"Checkout\" за полгода\n",
        "*   da.user_payments – события оплаты за заказ за полгода\n",
        "*   da.user_x_channel – витрина с указанием канала привлечения для каждого идентификатор юзера\n",
        "\n",
        "\n",
        "\n",
        "\n",
        "\n",
        "\n"
      ],
      "metadata": {
        "id": "Zb1Vnr77TGT8"
      }
    },
    {
      "cell_type": "markdown",
      "source": [
        "![tables.png](data:image/png;base64,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)"
      ],
      "metadata": {
        "id": "AMZb5WwUTYUx"
      }
    },
    {
      "cell_type": "code",
      "source": [
        "!pip install psycopg2\n",
        "\n",
        "import psycopg2\n",
        "import pandas as pd\n",
        "\n",
        "DB_HOST = 'de-edu-db.chronosavant.ru'\n",
        "DB_USER = 'da11'\n",
        "DB_USER_PASSWORD = 'gandalfthegrey'\n",
        "DB_NAME = 'edu'\n",
        "\n",
        "conn = psycopg2.connect(host=DB_HOST, user=DB_USER, password=DB_USER_PASSWORD, dbname=DB_NAME)"
      ],
      "metadata": {
        "colab": {
          "base_uri": "https://localhost:8080/"
        },
        "id": "NsjrL8Kr6idN",
        "outputId": "3ba3f67c-2d12-424b-e46c-19fa487adb42"
      },
      "execution_count": null,
      "outputs": [
        {
          "output_type": "stream",
          "name": "stdout",
          "text": [
            "Looking in indexes: https://pypi.org/simple, https://us-python.pkg.dev/colab-wheels/public/simple/\n",
            "Requirement already satisfied: psycopg2 in /usr/local/lib/python3.8/dist-packages (2.9.5)\n"
          ]
        }
      ]
    },
    {
      "cell_type": "code",
      "execution_count": null,
      "metadata": {
        "id": "g1bAwiZaPCbf"
      },
      "outputs": [],
      "source": [
        "Kazakov = pd.read_sql_query(\"\"\"\n",
        "SELECT \n",
        "      row_number() over (order by CONCAT(timestamp, '_' , user_orders.user_id)) as row_id,\n",
        "      CONCAT(timestamp, '_' , user_orders.user_id) as order_id,\n",
        "      channel AS acquisition_name,\n",
        "      timestamp, \n",
        "      user_orders.user_id,\n",
        "      /*CASE \n",
        "          WHEN amount is null THEN 'заказ_не_оплачен'\n",
        "          ELSE CAST (amount as varchar)\n",
        "          END AS amount, */\n",
        "      amount,\n",
        "      amount_refunded,\n",
        "      coalesce(amount - amount_refunded,0) AS amount_after_refund, \n",
        "      (coalesce(amount - amount_refunded,0) / (SELECT \n",
        "                                                    sum(amount - amount_refunded)\n",
        "                                              FROM \n",
        "                                                    da.user_payments) * 100) as percent_of_all_amount_withref      \n",
        "                                                    ---% от общей суммы заказов после возвратов                                                               \n",
        "FROM \n",
        "      da.user_orders\n",
        "LEFT JOIN\n",
        "      da.user_x_channel\n",
        "USING(user_id)\n",
        "LEFT JOIN\n",
        "      da.user_payments\n",
        "ON\n",
        "    user_orders.timestamp = user_payments.created\n",
        "\n",
        "\"\"\", conn)"
      ]
    },
    {
      "cell_type": "code",
      "source": [
        "Kazakov"
      ],
      "metadata": {
        "colab": {
          "base_uri": "https://localhost:8080/",
          "height": 424
        },
        "id": "v-5GsvXV_o08",
        "outputId": "97c2d142-cd86-4168-a550-f693c4c422ed"
      },
      "execution_count": null,
      "outputs": [
        {
          "output_type": "execute_result",
          "data": {
            "text/plain": [
              "      row_id                                      order_id acquisition_name  \\\n",
              "0          1  2022-04-01 09:12:43_6246ba8adcd39f5d07e3bc69    yandex direct   \n",
              "1          2  2022-04-01 12:15:23_6246e798c4d5b139d2328729  Organic desktop   \n",
              "2          3  2022-04-02 08:35:43_6247a85b5814321ec2638915   Organic mobile   \n",
              "3          4  2022-04-03 14:15:44_624980635814321ec2138409  Organic desktop   \n",
              "4          5  2022-04-04 18:24:52_624b36eb5814321ec2710ad8   Organic mobile   \n",
              "...      ...                                           ...              ...   \n",
              "2459    2460  2022-09-30 14:55:34_627c6e8b5593fc34cf46d6e6           vk.com   \n",
              "2460    2461  2022-09-30 16:41:59_628bcf50fc37716474a3e00e           vk.com   \n",
              "2461    2462  2022-09-30 17:11:59_62dd7c2c399d11063c1bef42           vk.com   \n",
              "2462    2463  2022-09-30 18:31:57_62dd7c2c399d11063c1bef42           vk.com   \n",
              "2463    2464  2022-09-30 22:21:59_630118f81b9b3f1cb3781eea  Organic desktop   \n",
              "\n",
              "               timestamp                   user_id  amount  amount_refunded  \\\n",
              "0    2022-04-01 09:12:43  6246ba8adcd39f5d07e3bc69     NaN              NaN   \n",
              "1    2022-04-01 12:15:23  6246e798c4d5b139d2328729     NaN              NaN   \n",
              "2    2022-04-02 08:35:43  6247a85b5814321ec2638915  1500.0              0.0   \n",
              "3    2022-04-03 14:15:44  624980635814321ec2138409  1499.0              0.0   \n",
              "4    2022-04-04 18:24:52  624b36eb5814321ec2710ad8  1500.0              0.0   \n",
              "...                  ...                       ...     ...              ...   \n",
              "2459 2022-09-30 14:55:34  627c6e8b5593fc34cf46d6e6  1500.0              0.0   \n",
              "2460 2022-09-30 16:41:59  628bcf50fc37716474a3e00e  1463.0              0.0   \n",
              "2461 2022-09-30 17:11:59  62dd7c2c399d11063c1bef42  1463.0              0.0   \n",
              "2462 2022-09-30 18:31:57  62dd7c2c399d11063c1bef42  1463.0              0.0   \n",
              "2463 2022-09-30 22:21:59  630118f81b9b3f1cb3781eea     NaN              NaN   \n",
              "\n",
              "      amount_after_refund  percent_of_all_amount_withref  \n",
              "0                     0.0                       0.000000  \n",
              "1                     0.0                       0.000000  \n",
              "2                  1500.0                       0.036907  \n",
              "3                  1499.0                       0.036882  \n",
              "4                  1500.0                       0.036907  \n",
              "...                   ...                            ...  \n",
              "2459               1500.0                       0.036907  \n",
              "2460               1463.0                       0.035997  \n",
              "2461               1463.0                       0.035997  \n",
              "2462               1463.0                       0.035997  \n",
              "2463                  0.0                       0.000000  \n",
              "\n",
              "[2464 rows x 9 columns]"
            ],
            "text/html": [
              "\n",
              "  <div id=\"df-1d7dab9d-692e-4b35-b685-a347374da12d\">\n",
              "    <div class=\"colab-df-container\">\n",
              "      <div>\n",
              "<style scoped>\n",
              "    .dataframe tbody tr th:only-of-type {\n",
              "        vertical-align: middle;\n",
              "    }\n",
              "\n",
              "    .dataframe tbody tr th {\n",
              "        vertical-align: top;\n",
              "    }\n",
              "\n",
              "    .dataframe thead th {\n",
              "        text-align: right;\n",
              "    }\n",
              "</style>\n",
              "<table border=\"1\" class=\"dataframe\">\n",
              "  <thead>\n",
              "    <tr style=\"text-align: right;\">\n",
              "      <th></th>\n",
              "      <th>row_id</th>\n",
              "      <th>order_id</th>\n",
              "      <th>acquisition_name</th>\n",
              "      <th>timestamp</th>\n",
              "      <th>user_id</th>\n",
              "      <th>amount</th>\n",
              "      <th>amount_refunded</th>\n",
              "      <th>amount_after_refund</th>\n",
              "      <th>percent_of_all_amount_withref</th>\n",
              "    </tr>\n",
              "  </thead>\n",
              "  <tbody>\n",
              "    <tr>\n",
              "      <th>0</th>\n",
              "      <td>1</td>\n",
              "      <td>2022-04-01 09:12:43_6246ba8adcd39f5d07e3bc69</td>\n",
              "      <td>yandex direct</td>\n",
              "      <td>2022-04-01 09:12:43</td>\n",
              "      <td>6246ba8adcd39f5d07e3bc69</td>\n",
              "      <td>NaN</td>\n",
              "      <td>NaN</td>\n",
              "      <td>0.0</td>\n",
              "      <td>0.000000</td>\n",
              "    </tr>\n",
              "    <tr>\n",
              "      <th>1</th>\n",
              "      <td>2</td>\n",
              "      <td>2022-04-01 12:15:23_6246e798c4d5b139d2328729</td>\n",
              "      <td>Organic desktop</td>\n",
              "      <td>2022-04-01 12:15:23</td>\n",
              "      <td>6246e798c4d5b139d2328729</td>\n",
              "      <td>NaN</td>\n",
              "      <td>NaN</td>\n",
              "      <td>0.0</td>\n",
              "      <td>0.000000</td>\n",
              "    </tr>\n",
              "    <tr>\n",
              "      <th>2</th>\n",
              "      <td>3</td>\n",
              "      <td>2022-04-02 08:35:43_6247a85b5814321ec2638915</td>\n",
              "      <td>Organic mobile</td>\n",
              "      <td>2022-04-02 08:35:43</td>\n",
              "      <td>6247a85b5814321ec2638915</td>\n",
              "      <td>1500.0</td>\n",
              "      <td>0.0</td>\n",
              "      <td>1500.0</td>\n",
              "      <td>0.036907</td>\n",
              "    </tr>\n",
              "    <tr>\n",
              "      <th>3</th>\n",
              "      <td>4</td>\n",
              "      <td>2022-04-03 14:15:44_624980635814321ec2138409</td>\n",
              "      <td>Organic desktop</td>\n",
              "      <td>2022-04-03 14:15:44</td>\n",
              "      <td>624980635814321ec2138409</td>\n",
              "      <td>1499.0</td>\n",
              "      <td>0.0</td>\n",
              "      <td>1499.0</td>\n",
              "      <td>0.036882</td>\n",
              "    </tr>\n",
              "    <tr>\n",
              "      <th>4</th>\n",
              "      <td>5</td>\n",
              "      <td>2022-04-04 18:24:52_624b36eb5814321ec2710ad8</td>\n",
              "      <td>Organic mobile</td>\n",
              "      <td>2022-04-04 18:24:52</td>\n",
              "      <td>624b36eb5814321ec2710ad8</td>\n",
              "      <td>1500.0</td>\n",
              "      <td>0.0</td>\n",
              "      <td>1500.0</td>\n",
              "      <td>0.036907</td>\n",
              "    </tr>\n",
              "    <tr>\n",
              "      <th>...</th>\n",
              "      <td>...</td>\n",
              "      <td>...</td>\n",
              "      <td>...</td>\n",
              "      <td>...</td>\n",
              "      <td>...</td>\n",
              "      <td>...</td>\n",
              "      <td>...</td>\n",
              "      <td>...</td>\n",
              "      <td>...</td>\n",
              "    </tr>\n",
              "    <tr>\n",
              "      <th>2459</th>\n",
              "      <td>2460</td>\n",
              "      <td>2022-09-30 14:55:34_627c6e8b5593fc34cf46d6e6</td>\n",
              "      <td>vk.com</td>\n",
              "      <td>2022-09-30 14:55:34</td>\n",
              "      <td>627c6e8b5593fc34cf46d6e6</td>\n",
              "      <td>1500.0</td>\n",
              "      <td>0.0</td>\n",
              "      <td>1500.0</td>\n",
              "      <td>0.036907</td>\n",
              "    </tr>\n",
              "    <tr>\n",
              "      <th>2460</th>\n",
              "      <td>2461</td>\n",
              "      <td>2022-09-30 16:41:59_628bcf50fc37716474a3e00e</td>\n",
              "      <td>vk.com</td>\n",
              "      <td>2022-09-30 16:41:59</td>\n",
              "      <td>628bcf50fc37716474a3e00e</td>\n",
              "      <td>1463.0</td>\n",
              "      <td>0.0</td>\n",
              "      <td>1463.0</td>\n",
              "      <td>0.035997</td>\n",
              "    </tr>\n",
              "    <tr>\n",
              "      <th>2461</th>\n",
              "      <td>2462</td>\n",
              "      <td>2022-09-30 17:11:59_62dd7c2c399d11063c1bef42</td>\n",
              "      <td>vk.com</td>\n",
              "      <td>2022-09-30 17:11:59</td>\n",
              "      <td>62dd7c2c399d11063c1bef42</td>\n",
              "      <td>1463.0</td>\n",
              "      <td>0.0</td>\n",
              "      <td>1463.0</td>\n",
              "      <td>0.035997</td>\n",
              "    </tr>\n",
              "    <tr>\n",
              "      <th>2462</th>\n",
              "      <td>2463</td>\n",
              "      <td>2022-09-30 18:31:57_62dd7c2c399d11063c1bef42</td>\n",
              "      <td>vk.com</td>\n",
              "      <td>2022-09-30 18:31:57</td>\n",
              "      <td>62dd7c2c399d11063c1bef42</td>\n",
              "      <td>1463.0</td>\n",
              "      <td>0.0</td>\n",
              "      <td>1463.0</td>\n",
              "      <td>0.035997</td>\n",
              "    </tr>\n",
              "    <tr>\n",
              "      <th>2463</th>\n",
              "      <td>2464</td>\n",
              "      <td>2022-09-30 22:21:59_630118f81b9b3f1cb3781eea</td>\n",
              "      <td>Organic desktop</td>\n",
              "      <td>2022-09-30 22:21:59</td>\n",
              "      <td>630118f81b9b3f1cb3781eea</td>\n",
              "      <td>NaN</td>\n",
              "      <td>NaN</td>\n",
              "      <td>0.0</td>\n",
              "      <td>0.000000</td>\n",
              "    </tr>\n",
              "  </tbody>\n",
              "</table>\n",
              "<p>2464 rows × 9 columns</p>\n",
              "</div>\n",
              "      <button class=\"colab-df-convert\" onclick=\"convertToInteractive('df-1d7dab9d-692e-4b35-b685-a347374da12d')\"\n",
              "              title=\"Convert this dataframe to an interactive table.\"\n",
              "              style=\"display:none;\">\n",
              "        \n",
              "  <svg xmlns=\"http://www.w3.org/2000/svg\" height=\"24px\"viewBox=\"0 0 24 24\"\n",
              "       width=\"24px\">\n",
              "    <path d=\"M0 0h24v24H0V0z\" fill=\"none\"/>\n",
              "    <path d=\"M18.56 5.44l.94 2.06.94-2.06 2.06-.94-2.06-.94-.94-2.06-.94 2.06-2.06.94zm-11 1L8.5 8.5l.94-2.06 2.06-.94-2.06-.94L8.5 2.5l-.94 2.06-2.06.94zm10 10l.94 2.06.94-2.06 2.06-.94-2.06-.94-.94-2.06-.94 2.06-2.06.94z\"/><path d=\"M17.41 7.96l-1.37-1.37c-.4-.4-.92-.59-1.43-.59-.52 0-1.04.2-1.43.59L10.3 9.45l-7.72 7.72c-.78.78-.78 2.05 0 2.83L4 21.41c.39.39.9.59 1.41.59.51 0 1.02-.2 1.41-.59l7.78-7.78 2.81-2.81c.8-.78.8-2.07 0-2.86zM5.41 20L4 18.59l7.72-7.72 1.47 1.35L5.41 20z\"/>\n",
              "  </svg>\n",
              "      </button>\n",
              "      \n",
              "  <style>\n",
              "    .colab-df-container {\n",
              "      display:flex;\n",
              "      flex-wrap:wrap;\n",
              "      gap: 12px;\n",
              "    }\n",
              "\n",
              "    .colab-df-convert {\n",
              "      background-color: #E8F0FE;\n",
              "      border: none;\n",
              "      border-radius: 50%;\n",
              "      cursor: pointer;\n",
              "      display: none;\n",
              "      fill: #1967D2;\n",
              "      height: 32px;\n",
              "      padding: 0 0 0 0;\n",
              "      width: 32px;\n",
              "    }\n",
              "\n",
              "    .colab-df-convert:hover {\n",
              "      background-color: #E2EBFA;\n",
              "      box-shadow: 0px 1px 2px rgba(60, 64, 67, 0.3), 0px 1px 3px 1px rgba(60, 64, 67, 0.15);\n",
              "      fill: #174EA6;\n",
              "    }\n",
              "\n",
              "    [theme=dark] .colab-df-convert {\n",
              "      background-color: #3B4455;\n",
              "      fill: #D2E3FC;\n",
              "    }\n",
              "\n",
              "    [theme=dark] .colab-df-convert:hover {\n",
              "      background-color: #434B5C;\n",
              "      box-shadow: 0px 1px 3px 1px rgba(0, 0, 0, 0.15);\n",
              "      filter: drop-shadow(0px 1px 2px rgba(0, 0, 0, 0.3));\n",
              "      fill: #FFFFFF;\n",
              "    }\n",
              "  </style>\n",
              "\n",
              "      <script>\n",
              "        const buttonEl =\n",
              "          document.querySelector('#df-1d7dab9d-692e-4b35-b685-a347374da12d button.colab-df-convert');\n",
              "        buttonEl.style.display =\n",
              "          google.colab.kernel.accessAllowed ? 'block' : 'none';\n",
              "\n",
              "        async function convertToInteractive(key) {\n",
              "          const element = document.querySelector('#df-1d7dab9d-692e-4b35-b685-a347374da12d');\n",
              "          const dataTable =\n",
              "            await google.colab.kernel.invokeFunction('convertToInteractive',\n",
              "                                                     [key], {});\n",
              "          if (!dataTable) return;\n",
              "\n",
              "          const docLinkHtml = 'Like what you see? Visit the ' +\n",
              "            '<a target=\"_blank\" href=https://colab.research.google.com/notebooks/data_table.ipynb>data table notebook</a>'\n",
              "            + ' to learn more about interactive tables.';\n",
              "          element.innerHTML = '';\n",
              "          dataTable['output_type'] = 'display_data';\n",
              "          await google.colab.output.renderOutput(dataTable, element);\n",
              "          const docLink = document.createElement('div');\n",
              "          docLink.innerHTML = docLinkHtml;\n",
              "          element.appendChild(docLink);\n",
              "        }\n",
              "      </script>\n",
              "    </div>\n",
              "  </div>\n",
              "  "
            ]
          },
          "metadata": {},
          "execution_count": 25
        }
      ]
    },
    {
      "cell_type": "code",
      "source": [
        "Kazakov.to_csv('order_acquisition.csv')"
      ],
      "metadata": {
        "id": "EFSHBZ9Y47n-"
      },
      "execution_count": null,
      "outputs": []
    },
    {
      "cell_type": "code",
      "source": [
        "from google.colab import drive\n",
        "drive.mount('/content/drive')"
      ],
      "metadata": {
        "colab": {
          "base_uri": "https://localhost:8080/"
        },
        "id": "iGBQ-4PTuauo",
        "outputId": "ee2e339a-70e3-4d53-8527-badf1409274a"
      },
      "execution_count": null,
      "outputs": [
        {
          "output_type": "stream",
          "name": "stdout",
          "text": [
            "Drive already mounted at /content/drive; to attempt to forcibly remount, call drive.mount(\"/content/drive\", force_remount=True).\n"
          ]
        }
      ]
    },
    {
      "cell_type": "code",
      "source": [
        "Kazakov.to_csv('order_acquisition.csv')\n",
        "!cp order_acquisition.csv \"drive/My Drive/\""
      ],
      "metadata": {
        "id": "bbxbKv48nVex"
      },
      "execution_count": null,
      "outputs": []
    }
  ],
  "metadata": {
    "kernelspec": {
      "display_name": "Python 3",
      "language": "python",
      "name": "python3"
    },
    "language_info": {
      "codemirror_mode": {
        "name": "ipython",
        "version": 3
      },
      "file_extension": ".py",
      "mimetype": "text/x-python",
      "name": "python",
      "nbconvert_exporter": "python",
      "pygments_lexer": "ipython3",
      "version": "3.7.4"
    },
    "colab": {
      "provenance": []
    }
  },
  "nbformat": 4,
  "nbformat_minor": 0
}